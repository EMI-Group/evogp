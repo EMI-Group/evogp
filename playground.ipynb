{
 "cells": [
  {
   "cell_type": "code",
   "execution_count": 97,
   "metadata": {},
   "outputs": [
    {
     "name": "stdout",
     "output_type": "stream",
     "text": [
      "tensor([[ 3,  4,  5,  6,  0,  0],\n",
      "        [ 6,  7,  8,  9, 10, 11]])\n"
     ]
    }
   ],
   "source": [
    "import torch\n",
    "from evogp.tree import Forest\n",
    "from torch import Tensor\n",
    "\n",
    "a = torch.arange(1, 18)\n",
    "b = torch.arange(1, 18)\n",
    "c = torch.stack([a, b], dim=0)\n",
    "\n",
    "start = torch.tensor([2, 5])\n",
    "end = torch.tensor([4, 6])\n",
    "\n",
    "\n",
    "def subtensor(tensor: torch.Tensor, start, length):\n",
    "    start = start.reshape(-1, 1)\n",
    "    length = length.reshape(-1, 1)\n",
    "    end = start + length\n",
    "    max_len = torch.max(length)\n",
    "    indices = torch.arange(max_len) + start\n",
    "    shifted_tensor = tensor.gather(1, indices)\n",
    "    return torch.where(indices < end, shifted_tensor, 0)\n",
    "\n",
    "\n",
    "def vmap_subtree(forest: Forest, pos):\n",
    "    pos = pos.reshape(-1, 1)\n",
    "    length = forest.batch_subtree_size.gather(1, pos)\n",
    "    Forest(\n",
    "        forest.input_len,\n",
    "        forest.output_len,\n",
    "        subtensor(forest.batch_node_value, pos, length),\n",
    "        subtensor(forest.batch_node_type, pos, length),\n",
    "        subtensor(forest.batch_subtree_size, pos, length),\n",
    "    )\n",
    "\n",
    "\n",
    "result = subtensor(c, start, end)\n",
    "\n",
    "print(result)"
   ]
  },
  {
   "cell_type": "code",
   "execution_count": null,
   "metadata": {},
   "outputs": [
    {
     "name": "stdout",
     "output_type": "stream",
     "text": [
      "tensor([1, 2, 3, 4, 5])\n"
     ]
    },
    {
     "ename": "IndexError",
     "evalue": "index 5 is out of bounds for dimension 1 with size 5",
     "output_type": "error",
     "traceback": [
      "\u001b[0;31m---------------------------------------------------------------------------\u001b[0m",
      "\u001b[0;31mIndexError\u001b[0m                                Traceback (most recent call last)",
      "Cell \u001b[0;32mIn[107], line 21\u001b[0m\n\u001b[1;32m     19\u001b[0m \u001b[38;5;66;03m# 循环跳跃 nth_childs.max() 次\u001b[39;00m\n\u001b[1;32m     20\u001b[0m \u001b[38;5;28;01mfor\u001b[39;00m i \u001b[38;5;129;01min\u001b[39;00m \u001b[38;5;28mrange\u001b[39m(\u001b[38;5;241m2\u001b[39m, nth_childs\u001b[38;5;241m.\u001b[39mmax() \u001b[38;5;241m+\u001b[39m \u001b[38;5;241m1\u001b[39m):\n\u001b[0;32m---> 21\u001b[0m     jump \u001b[38;5;241m=\u001b[39m \u001b[43msize_tensor\u001b[49m\u001b[43m[\u001b[49m\u001b[43mtorch\u001b[49m\u001b[38;5;241;43m.\u001b[39;49m\u001b[43marange\u001b[49m\u001b[43m(\u001b[49m\u001b[43mnum_mutate\u001b[49m\u001b[43m)\u001b[49m\u001b[43m,\u001b[49m\u001b[43m \u001b[49m\u001b[43mpos\u001b[49m\u001b[43m]\u001b[49m  \u001b[38;5;66;03m# 计算当前跳跃的步长\u001b[39;00m\n\u001b[1;32m     22\u001b[0m     pos \u001b[38;5;241m=\u001b[39m torch\u001b[38;5;241m.\u001b[39mwhere(nth_childs \u001b[38;5;241m>\u001b[39m\u001b[38;5;241m=\u001b[39m i, pos \u001b[38;5;241m+\u001b[39m jump, pos)  \u001b[38;5;66;03m# 更新 pos，仅对需要跳跃的位置进行累加\u001b[39;00m\n\u001b[1;32m     24\u001b[0m \u001b[38;5;28mprint\u001b[39m(pos)\n",
      "\u001b[0;31mIndexError\u001b[0m: index 5 is out of bounds for dimension 1 with size 5"
     ]
    }
   ],
   "source": [
    "import torch\n",
    "\n",
    "# 示例输入\n",
    "num_mutate = 5\n",
    "mutate_positions = torch.tensor([0, 1, 2, 3, 4])\n",
    "size_tensor = torch.tensor([\n",
    "    [1, 2, 3, 4, 5],\n",
    "    [2, 3, 4, 5, 6],\n",
    "    [3, 4, 5, 6, 7],\n",
    "    [4, 5, 6, 7, 8],\n",
    "    [5, 6, 7, 8, 9]\n",
    "])\n",
    "nth_childs = torch.tensor([2, 3, 4, 1, 5])  # 指定每个位置跳跃的次数\n",
    "\n",
    "# 初始化 pos，第一跳为 mutate_positions + 1\n",
    "pos = mutate_positions + 1\n",
    "print(pos)\n",
    "\n",
    "# 循环跳跃 nth_childs.max() 次\n",
    "for i in range(2, nth_childs.max() + 1):\n",
    "    jump = size_tensor[torch.arange(num_mutate), pos]  # 计算当前跳跃的步长\n",
    "    pos = torch.where(nth_childs >= i, pos + jump, pos)  # 更新 pos，仅对需要跳跃的位置进行累加\n",
    "\n",
    "print(pos)\n"
   ]
  },
  {
   "cell_type": "code",
   "execution_count": 83,
   "metadata": {},
   "outputs": [
    {
     "name": "stdout",
     "output_type": "stream",
     "text": [
      "torch.Size([])\n"
     ]
    }
   ],
   "source": [
    "import torch\n",
    "\n",
    "tree_size = torch.tensor(1)\n",
    "\n",
    "print(a)"
   ]
  },
  {
   "cell_type": "code",
   "execution_count": 94,
   "metadata": {},
   "outputs": [
    {
     "name": "stdout",
     "output_type": "stream",
     "text": [
      "tensor([[0.4553, 0.5184, 0.1132, 0.0275],\n",
      "        [0.2178, 0.5921, 0.8125, 0.2033],\n",
      "        [0.1443, 0.4339, 0.9722, 0.1025],\n",
      "        [0.5645, 0.8002, 0.5949, 0.1533]])\n"
     ]
    },
    {
     "data": {
      "text/plain": [
       "tensor([3, 3, 2, 1])"
      ]
     },
     "execution_count": 94,
     "metadata": {},
     "output_type": "execute_result"
    }
   ],
   "source": [
    "a = torch.rand(4, 4)\n",
    "print(a)\n",
    "torch.argmax(a, 0)"
   ]
  },
  {
   "cell_type": "code",
   "execution_count": 89,
   "metadata": {},
   "outputs": [
    {
     "ename": "TypeError",
     "evalue": "randint() received an invalid combination of arguments - got (int, Tensor, tuple), but expected one of:\n * (int high, tuple of ints size, *, torch.Generator generator, Tensor out = None, torch.dtype dtype = None, torch.layout layout = None, torch.device device = None, bool pin_memory = False, bool requires_grad = False)\n * (int high, tuple of ints size, *, Tensor out = None, torch.dtype dtype = None, torch.layout layout = None, torch.device device = None, bool pin_memory = False, bool requires_grad = False)\n * (int low, int high, tuple of ints size, *, torch.Generator generator, Tensor out = None, torch.dtype dtype = None, torch.layout layout = None, torch.device device = None, bool pin_memory = False, bool requires_grad = False)\n * (int low, int high, tuple of ints size, *, Tensor out = None, torch.dtype dtype = None, torch.layout layout = None, torch.device device = None, bool pin_memory = False, bool requires_grad = False)\n",
     "output_type": "error",
     "traceback": [
      "\u001b[0;31m---------------------------------------------------------------------------\u001b[0m",
      "\u001b[0;31mTypeError\u001b[0m                                 Traceback (most recent call last)",
      "Cell \u001b[0;32mIn[89], line 7\u001b[0m\n\u001b[1;32m      4\u001b[0m bounds \u001b[38;5;241m=\u001b[39m torch\u001b[38;5;241m.\u001b[39mtensor([\u001b[38;5;241m1\u001b[39m, \u001b[38;5;241m4\u001b[39m, \u001b[38;5;241m56\u001b[39m, \u001b[38;5;241m5\u001b[39m, \u001b[38;5;241m8\u001b[39m])\n\u001b[1;32m      6\u001b[0m \u001b[38;5;66;03m# 使用 torch.randint 生成 1 到每个 bound 元素范围内的随机整数\u001b[39;00m\n\u001b[0;32m----> 7\u001b[0m random_integers \u001b[38;5;241m=\u001b[39m \u001b[43mtorch\u001b[49m\u001b[38;5;241;43m.\u001b[39;49m\u001b[43mrandint\u001b[49m\u001b[43m(\u001b[49m\u001b[38;5;241;43m1\u001b[39;49m\u001b[43m,\u001b[49m\u001b[43m \u001b[49m\u001b[43mbounds\u001b[49m\u001b[43m,\u001b[49m\u001b[43m \u001b[49m\u001b[43m(\u001b[49m\u001b[43mn\u001b[49m\u001b[43m,\u001b[49m\u001b[43m)\u001b[49m\u001b[43m)\u001b[49m\n\u001b[1;32m      9\u001b[0m \u001b[38;5;28mprint\u001b[39m(random_integers)\n",
      "\u001b[0;31mTypeError\u001b[0m: randint() received an invalid combination of arguments - got (int, Tensor, tuple), but expected one of:\n * (int high, tuple of ints size, *, torch.Generator generator, Tensor out = None, torch.dtype dtype = None, torch.layout layout = None, torch.device device = None, bool pin_memory = False, bool requires_grad = False)\n * (int high, tuple of ints size, *, Tensor out = None, torch.dtype dtype = None, torch.layout layout = None, torch.device device = None, bool pin_memory = False, bool requires_grad = False)\n * (int low, int high, tuple of ints size, *, torch.Generator generator, Tensor out = None, torch.dtype dtype = None, torch.layout layout = None, torch.device device = None, bool pin_memory = False, bool requires_grad = False)\n * (int low, int high, tuple of ints size, *, Tensor out = None, torch.dtype dtype = None, torch.layout layout = None, torch.device device = None, bool pin_memory = False, bool requires_grad = False)\n"
     ]
    }
   ],
   "source": [
    "import torch\n",
    "\n",
    "def process_row(row: torch.Tensor, init_idx: int, jumps: int) -> int:\n",
    "    \"\"\"\n",
    "    模拟跳跃操作，给定起始索引 init_idx 和跳跃次数 jumps，\n",
    "    根据 row 中的跳跃值依次累加，返回最终索引。\n",
    "    \n",
    "    参数：\n",
    "    - row: Tensor，包含跳跃值\n",
    "    - init_idx: int，初始索引\n",
    "    - jumps: int，跳跃次数\n",
    "\n",
    "    返回：\n",
    "    - final_idx: int，最终索引\n",
    "    \"\"\"\n",
    "    final_idx = init_idx\n",
    "    for _ in range(jumps):\n",
    "        final_idx += row[final_idx].item()  # 每次跳跃累加 row 中的值\n",
    "    return final_idx\n"
   ]
  },
  {
   "cell_type": "code",
   "execution_count": 6,
   "metadata": {},
   "outputs": [
    {
     "ename": "SyntaxError",
     "evalue": "invalid character '🌳' (U+1F333) (280915712.py, line 17)",
     "output_type": "error",
     "traceback": [
      "\u001b[1;36m  Cell \u001b[1;32mIn[6], line 17\u001b[1;36m\u001b[0m\n\u001b[1;33m    🌳🌳🌳 = Forest.random_generate(pop_size=10, **generate_configs)\u001b[0m\n\u001b[1;37m    ^\u001b[0m\n\u001b[1;31mSyntaxError\u001b[0m\u001b[1;31m:\u001b[0m invalid character '🌳' (U+1F333)\n"
     ]
    }
   ],
   "source": [
    "from tree import Tree, Forest\n",
    "\n",
    "generate_configs = {\n",
    "    \"seed\": 1,\n",
    "    \"gp_len\": 64,\n",
    "    \"input_len\": 3,\n",
    "    \"output_len\": 1,\n",
    "    \"const_prob\": 0.5,\n",
    "    \"out_prob\": 0.5,\n",
    "    \"func_prob\": {\"+\": 0.25, \"-\": 0.25, \"*\": 0.25, \"/\": 0.25},\n",
    "    \"max_layer_cnt\": 5,\n",
    "    \"layer_leaf_prob\": 0.2,\n",
    "    \"const_range\": (-1, 1),\n",
    "    \"sample_cnt\": 8\n",
    "}\n",
    "\n",
    "tree = Forest.random_generate(pop_size=10, **generate_configs)"
   ]
  },
  {
   "cell_type": "code",
   "execution_count": 2,
   "metadata": {},
   "outputs": [
    {
     "name": "stdout",
     "output_type": "stream",
     "text": [
      "[\n",
      "  x[0] , \n",
      "  0.70 , \n",
      "  / / * + - 0.70 0.70 + x[0] 0.70 / - 0.70 -0.43 + 0.22 0.22 * / - 0.91 x[0] / -0.62 x[0] / / -0.43 x[0] + 0.22 -0.43 + -0.43 / + - x[0] x[2] * x[0] x[2] x[1] , \n",
      "  * x[0] * * + 0.70 - x[2] -0.22 - / x[0] x[0] + x[0] -0.22 / * / x[2] -0.62 x[2] * - x[1] x[0] x[2] , \n",
      "  + - - 0.91 -0.22 -0.43 + * * * x[1] x[2] + 0.70 x[2] + - -0.22 x[1] * x[2] x[2] / + * 0.22 0.91 + -0.62 x[0] x[2] , \n",
      "  + - * - - 0.70 x[2] + -0.62 0.22 / + x[1] -0.43 -0.62 + + + 1.00 x[0] / x[2] 1.00 - + 0.70 x[2] 0.70 - / 1.00 - / x[1] 0.91 1.00 * / * -0.43 1.00 - x[0] 0.91 + / x[1] x[2] x[0] , \n",
      "  * / - / / -0.22 1.00 / x[2] x[2] - x[1] * x[2] x[0] * + - 0.22 x[2] - x[1] x[2] - + -0.62 x[0] + x[0] 0.04 * * - * x[2] x[2] -0.62 * + x[0] x[0] * x[2] x[1] - / * -0.43 0.70 / 1.00 x[0] / -0.62 0.70 , \n",
      "  x[0] , \n",
      "  -0.43 , \n",
      "  * / / - 0.04 -0.43 x[0] / / / 0.91 x[1] * x[0] 0.70 0.91 / / x[0] -0.62 - * * 1.00 x[2] * x[1] -0.43 + x[1] / 0.70 x[1] , \n",
      "]\n"
     ]
    }
   ],
   "source": [
    "print(forest)"
   ]
  },
  {
   "cell_type": "code",
   "execution_count": 3,
   "metadata": {},
   "outputs": [
    {
     "name": "stdout",
     "output_type": "stream",
     "text": [
      "tensor([1.], device='cuda:0')\n"
     ]
    }
   ],
   "source": [
    "import torch\n",
    "tree = forest[0]\n",
    "res = tree.forward(torch.Tensor([1, 2, 3]))\n",
    "print(res)"
   ]
  },
  {
   "cell_type": "code",
   "execution_count": 4,
   "metadata": {},
   "outputs": [],
   "source": [
    "res = forest.forward(torch.ones(10, 3))"
   ]
  },
  {
   "cell_type": "code",
   "execution_count": 5,
   "metadata": {},
   "outputs": [
    {
     "data": {
      "text/plain": [
       "tensor([[ 1.0000e+00],\n",
       "        [ 6.9722e-01],\n",
       "        [ 2.4932e+01],\n",
       "        [-4.2417e+04],\n",
       "        [ 1.7681e+00],\n",
       "        [ 1.5527e+01],\n",
       "        [-8.2777e-01],\n",
       "        [ 1.0000e+00],\n",
       "        [-4.3255e-01],\n",
       "        [ 2.4820e-01]], device='cuda:0')"
      ]
     },
     "execution_count": 5,
     "metadata": {},
     "output_type": "execute_result"
    }
   ],
   "source": [
    "res"
   ]
  },
  {
   "cell_type": "code",
   "execution_count": 3,
   "metadata": {},
   "outputs": [
    {
     "data": {
      "text/plain": [
       "(tensor([1, 2, 3, 4, 5, 6, 7, 8, 9]),\n",
       " tensor([False,  True, False,  True, False,  True, False,  True, False]))"
      ]
     },
     "execution_count": 3,
     "metadata": {},
     "output_type": "execute_result"
    }
   ],
   "source": [
    "import torch\n",
    "a = torch.tensor([1,2,3,4,5,6,7,8,9])\n",
    "bool_indices = a % 2 == 0\n",
    "\n",
    "a, bool_indices"
   ]
  },
  {
   "cell_type": "code",
   "execution_count": 6,
   "metadata": {},
   "outputs": [
    {
     "data": {
      "text/plain": [
       "tensor([102, 104, 106, 108])"
      ]
     },
     "execution_count": 6,
     "metadata": {},
     "output_type": "execute_result"
    }
   ],
   "source": [
    "b = a[bool_indices] + 100\n",
    "b"
   ]
  },
  {
   "cell_type": "code",
   "execution_count": 7,
   "metadata": {},
   "outputs": [],
   "source": [
    "a[bool_indices] = b"
   ]
  },
  {
   "cell_type": "code",
   "execution_count": 8,
   "metadata": {},
   "outputs": [
    {
     "data": {
      "text/plain": [
       "tensor([  1, 102,   3, 104,   5, 106,   7, 108,   9])"
      ]
     },
     "execution_count": 8,
     "metadata": {},
     "output_type": "execute_result"
    }
   ],
   "source": [
    "a"
   ]
  },
  {
   "cell_type": "code",
   "execution_count": 16,
   "metadata": {},
   "outputs": [
    {
     "ename": "RuntimeError",
     "evalue": "\"cuda_scatter_gather_base_kernel_func\" not implemented for 'UInt16'",
     "output_type": "error",
     "traceback": [
      "\u001b[1;31m---------------------------------------------------------------------------\u001b[0m",
      "\u001b[1;31mRuntimeError\u001b[0m                              Traceback (most recent call last)",
      "Cell \u001b[1;32mIn[16], line 3\u001b[0m\n\u001b[0;32m      1\u001b[0m \u001b[38;5;28;01mimport\u001b[39;00m \u001b[38;5;21;01mtorch\u001b[39;00m\n\u001b[0;32m      2\u001b[0m a \u001b[38;5;241m=\u001b[39m torch\u001b[38;5;241m.\u001b[39mtensor([\u001b[38;5;241m1\u001b[39m,\u001b[38;5;241m2\u001b[39m,\u001b[38;5;241m3\u001b[39m,\u001b[38;5;241m4\u001b[39m,\u001b[38;5;241m5\u001b[39m,\u001b[38;5;241m6\u001b[39m,\u001b[38;5;241m7\u001b[39m,\u001b[38;5;241m8\u001b[39m,\u001b[38;5;241m9\u001b[39m], dtype\u001b[38;5;241m=\u001b[39mtorch\u001b[38;5;241m.\u001b[39muint16, device\u001b[38;5;241m=\u001b[39m\u001b[38;5;124m\"\u001b[39m\u001b[38;5;124mcuda\u001b[39m\u001b[38;5;124m\"\u001b[39m)\n\u001b[1;32m----> 3\u001b[0m \u001b[43mtorch\u001b[49m\u001b[38;5;241;43m.\u001b[39;49m\u001b[43mgather\u001b[49m\u001b[43m(\u001b[49m\u001b[43ma\u001b[49m\u001b[43m,\u001b[49m\u001b[43m \u001b[49m\u001b[38;5;241;43m0\u001b[39;49m\u001b[43m,\u001b[49m\u001b[43m \u001b[49m\u001b[43mtorch\u001b[49m\u001b[38;5;241;43m.\u001b[39;49m\u001b[43mtensor\u001b[49m\u001b[43m(\u001b[49m\u001b[43m[\u001b[49m\u001b[38;5;241;43m1\u001b[39;49m\u001b[43m \u001b[49m\u001b[43m,\u001b[49m\u001b[38;5;241;43m2\u001b[39;49m\u001b[43m,\u001b[49m\u001b[43m \u001b[49m\u001b[38;5;241;43m3\u001b[39;49m\u001b[43m]\u001b[49m\u001b[43m,\u001b[49m\u001b[43m \u001b[49m\u001b[43mdtype\u001b[49m\u001b[38;5;241;43m=\u001b[39;49m\u001b[43mtorch\u001b[49m\u001b[38;5;241;43m.\u001b[39;49m\u001b[43mint64\u001b[49m\u001b[43m,\u001b[49m\u001b[43m \u001b[49m\u001b[43mdevice\u001b[49m\u001b[38;5;241;43m=\u001b[39;49m\u001b[38;5;124;43m\"\u001b[39;49m\u001b[38;5;124;43mcuda\u001b[39;49m\u001b[38;5;124;43m\"\u001b[39;49m\u001b[43m)\u001b[49m\u001b[43m)\u001b[49m\n",
      "\u001b[1;31mRuntimeError\u001b[0m: \"cuda_scatter_gather_base_kernel_func\" not implemented for 'UInt16'"
     ]
    }
   ],
   "source": [
    "import torch\n",
    "a = torch.tensor([1,2,3,4,5,6,7,8,9], dtype=torch.int16, device=\"cuda\")\n",
    "torch.gather(a, 0, torch.tensor([1 ,2, 3], dtype=torch.int64, device=\"cuda\"))"
   ]
  },
  {
   "cell_type": "code",
   "execution_count": 1,
   "metadata": {},
   "outputs": [
    {
     "name": "stdout",
     "output_type": "stream",
     "text": [
      "utf-8\n"
     ]
    }
   ],
   "source": [
    "import sys\n",
    "print(sys.getdefaultencoding())  # 应该输出 'utf-8'"
   ]
  },
  {
   "cell_type": "code",
   "execution_count": 3,
   "metadata": {},
   "outputs": [
    {
     "data": {
      "text/plain": [
       "'&#128512; &#128526; &#128640; &#10084;'"
      ]
     },
     "execution_count": 3,
     "metadata": {},
     "output_type": "execute_result"
    }
   ],
   "source": [
    "\"&#128512; &#128526; &#128640; &#10084;\""
   ]
  },
  {
   "cell_type": "code",
   "execution_count": 5,
   "metadata": {},
   "outputs": [
    {
     "data": {
      "text/plain": [
       "'😀 😎 🚀 ❤️'"
      ]
     },
     "execution_count": 5,
     "metadata": {},
     "output_type": "execute_result"
    }
   ],
   "source": [
    "a = \"😀 😎 🚀 ❤️\"\n",
    "a"
   ]
  },
  {
   "cell_type": "code",
   "execution_count": 7,
   "metadata": {},
   "outputs": [
    {
     "ename": "SyntaxError",
     "evalue": "invalid character '😀' (U+1F600) (<string>, line 1)",
     "output_type": "error",
     "traceback": [
      "Traceback \u001b[1;36m(most recent call last)\u001b[0m:\n",
      "\u001b[0m  File \u001b[0;32mc:\\Users\\wls\\anaconda3\\envs\\torch_env\\Lib\\site-packages\\IPython\\core\\interactiveshell.py:3577\u001b[0m in \u001b[0;35mrun_code\u001b[0m\n    exec(code_obj, self.user_global_ns, self.user_ns)\u001b[0m\n",
      "\u001b[1;36m  Cell \u001b[1;32mIn[7], line 2\u001b[1;36m\n\u001b[1;33m    exec(code)\u001b[1;36m\n",
      "\u001b[1;36m  File \u001b[1;32m<string>:1\u001b[1;36m\u001b[0m\n\u001b[1;33m    😀😎🚀❤️ = 12342435\u001b[0m\n\u001b[1;37m    ^\u001b[0m\n\u001b[1;31mSyntaxError\u001b[0m\u001b[1;31m:\u001b[0m invalid character '😀' (U+1F600)\n"
     ]
    }
   ],
   "source": [
    "code = \"😀😎🚀❤️ = 12342435\"\n",
    "exec(code)"
   ]
  },
  {
   "cell_type": "code",
   "execution_count": null,
   "metadata": {},
   "outputs": [],
   "source": []
  }
 ],
 "metadata": {
  "kernelspec": {
   "display_name": "evogp312",
   "language": "python",
   "name": "python3"
  },
  "language_info": {
   "codemirror_mode": {
    "name": "ipython",
    "version": 3
   },
   "file_extension": ".py",
   "mimetype": "text/x-python",
   "name": "python",
   "nbconvert_exporter": "python",
   "pygments_lexer": "ipython3",
   "version": "3.12.8"
  }
 },
 "nbformat": 4,
 "nbformat_minor": 2
}
