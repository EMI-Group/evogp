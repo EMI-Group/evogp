{
 "cells": [
  {
   "cell_type": "code",
   "execution_count": 6,
   "metadata": {},
   "outputs": [
    {
     "ename": "SyntaxError",
     "evalue": "invalid character '🌳' (U+1F333) (280915712.py, line 17)",
     "output_type": "error",
     "traceback": [
      "\u001b[1;36m  Cell \u001b[1;32mIn[6], line 17\u001b[1;36m\u001b[0m\n\u001b[1;33m    🌳🌳🌳 = Forest.random_generate(pop_size=10, **generate_configs)\u001b[0m\n\u001b[1;37m    ^\u001b[0m\n\u001b[1;31mSyntaxError\u001b[0m\u001b[1;31m:\u001b[0m invalid character '🌳' (U+1F333)\n"
     ]
    }
   ],
   "source": [
    "from tree import Tree, Forest\n",
    "\n",
    "generate_configs = {\n",
    "    \"seed\": 1,\n",
    "    \"gp_len\": 64,\n",
    "    \"input_len\": 3,\n",
    "    \"output_len\": 1,\n",
    "    \"const_prob\": 0.5,\n",
    "    \"out_prob\": 0.5,\n",
    "    \"func_prob\": {\"+\": 0.25, \"-\": 0.25, \"*\": 0.25, \"/\": 0.25},\n",
    "    \"max_layer_cnt\": 5,\n",
    "    \"layer_leaf_prob\": 0.2,\n",
    "    \"const_range\": (-1, 1),\n",
    "    \"sample_cnt\": 8\n",
    "}\n",
    "\n",
    "tree = Forest.random_generate(pop_size=10, **generate_configs)"
   ]
  },
  {
   "cell_type": "code",
   "execution_count": 2,
   "metadata": {},
   "outputs": [
    {
     "name": "stdout",
     "output_type": "stream",
     "text": [
      "[\n",
      "  x[0] , \n",
      "  0.70 , \n",
      "  / / * + - 0.70 0.70 + x[0] 0.70 / - 0.70 -0.43 + 0.22 0.22 * / - 0.91 x[0] / -0.62 x[0] / / -0.43 x[0] + 0.22 -0.43 + -0.43 / + - x[0] x[2] * x[0] x[2] x[1] , \n",
      "  * x[0] * * + 0.70 - x[2] -0.22 - / x[0] x[0] + x[0] -0.22 / * / x[2] -0.62 x[2] * - x[1] x[0] x[2] , \n",
      "  + - - 0.91 -0.22 -0.43 + * * * x[1] x[2] + 0.70 x[2] + - -0.22 x[1] * x[2] x[2] / + * 0.22 0.91 + -0.62 x[0] x[2] , \n",
      "  + - * - - 0.70 x[2] + -0.62 0.22 / + x[1] -0.43 -0.62 + + + 1.00 x[0] / x[2] 1.00 - + 0.70 x[2] 0.70 - / 1.00 - / x[1] 0.91 1.00 * / * -0.43 1.00 - x[0] 0.91 + / x[1] x[2] x[0] , \n",
      "  * / - / / -0.22 1.00 / x[2] x[2] - x[1] * x[2] x[0] * + - 0.22 x[2] - x[1] x[2] - + -0.62 x[0] + x[0] 0.04 * * - * x[2] x[2] -0.62 * + x[0] x[0] * x[2] x[1] - / * -0.43 0.70 / 1.00 x[0] / -0.62 0.70 , \n",
      "  x[0] , \n",
      "  -0.43 , \n",
      "  * / / - 0.04 -0.43 x[0] / / / 0.91 x[1] * x[0] 0.70 0.91 / / x[0] -0.62 - * * 1.00 x[2] * x[1] -0.43 + x[1] / 0.70 x[1] , \n",
      "]\n"
     ]
    }
   ],
   "source": [
    "print(forest)"
   ]
  },
  {
   "cell_type": "code",
   "execution_count": 3,
   "metadata": {},
   "outputs": [
    {
     "name": "stdout",
     "output_type": "stream",
     "text": [
      "tensor([1.], device='cuda:0')\n"
     ]
    }
   ],
   "source": [
    "import torch\n",
    "tree = forest[0]\n",
    "res = tree.forward(torch.Tensor([1, 2, 3]))\n",
    "print(res)"
   ]
  },
  {
   "cell_type": "code",
   "execution_count": 4,
   "metadata": {},
   "outputs": [],
   "source": [
    "res = forest.forward(torch.ones(10, 3))"
   ]
  },
  {
   "cell_type": "code",
   "execution_count": 5,
   "metadata": {},
   "outputs": [
    {
     "data": {
      "text/plain": [
       "tensor([[ 1.0000e+00],\n",
       "        [ 6.9722e-01],\n",
       "        [ 2.4932e+01],\n",
       "        [-4.2417e+04],\n",
       "        [ 1.7681e+00],\n",
       "        [ 1.5527e+01],\n",
       "        [-8.2777e-01],\n",
       "        [ 1.0000e+00],\n",
       "        [-4.3255e-01],\n",
       "        [ 2.4820e-01]], device='cuda:0')"
      ]
     },
     "execution_count": 5,
     "metadata": {},
     "output_type": "execute_result"
    }
   ],
   "source": [
    "res"
   ]
  },
  {
   "cell_type": "code",
   "execution_count": 3,
   "metadata": {},
   "outputs": [
    {
     "data": {
      "text/plain": [
       "(tensor([1, 2, 3, 4, 5, 6, 7, 8, 9]),\n",
       " tensor([False,  True, False,  True, False,  True, False,  True, False]))"
      ]
     },
     "execution_count": 3,
     "metadata": {},
     "output_type": "execute_result"
    }
   ],
   "source": [
    "import torch\n",
    "a = torch.tensor([1,2,3,4,5,6,7,8,9])\n",
    "bool_indices = a % 2 == 0\n",
    "\n",
    "a, bool_indices"
   ]
  },
  {
   "cell_type": "code",
   "execution_count": 6,
   "metadata": {},
   "outputs": [
    {
     "data": {
      "text/plain": [
       "tensor([102, 104, 106, 108])"
      ]
     },
     "execution_count": 6,
     "metadata": {},
     "output_type": "execute_result"
    }
   ],
   "source": [
    "b = a[bool_indices] + 100\n",
    "b"
   ]
  },
  {
   "cell_type": "code",
   "execution_count": 7,
   "metadata": {},
   "outputs": [],
   "source": [
    "a[bool_indices] = b"
   ]
  },
  {
   "cell_type": "code",
   "execution_count": 8,
   "metadata": {},
   "outputs": [
    {
     "data": {
      "text/plain": [
       "tensor([  1, 102,   3, 104,   5, 106,   7, 108,   9])"
      ]
     },
     "execution_count": 8,
     "metadata": {},
     "output_type": "execute_result"
    }
   ],
   "source": [
    "a"
   ]
  },
  {
   "cell_type": "code",
   "execution_count": 16,
   "metadata": {},
   "outputs": [
    {
     "ename": "RuntimeError",
     "evalue": "\"cuda_scatter_gather_base_kernel_func\" not implemented for 'UInt16'",
     "output_type": "error",
     "traceback": [
      "\u001b[1;31m---------------------------------------------------------------------------\u001b[0m",
      "\u001b[1;31mRuntimeError\u001b[0m                              Traceback (most recent call last)",
      "Cell \u001b[1;32mIn[16], line 3\u001b[0m\n\u001b[0;32m      1\u001b[0m \u001b[38;5;28;01mimport\u001b[39;00m \u001b[38;5;21;01mtorch\u001b[39;00m\n\u001b[0;32m      2\u001b[0m a \u001b[38;5;241m=\u001b[39m torch\u001b[38;5;241m.\u001b[39mtensor([\u001b[38;5;241m1\u001b[39m,\u001b[38;5;241m2\u001b[39m,\u001b[38;5;241m3\u001b[39m,\u001b[38;5;241m4\u001b[39m,\u001b[38;5;241m5\u001b[39m,\u001b[38;5;241m6\u001b[39m,\u001b[38;5;241m7\u001b[39m,\u001b[38;5;241m8\u001b[39m,\u001b[38;5;241m9\u001b[39m], dtype\u001b[38;5;241m=\u001b[39mtorch\u001b[38;5;241m.\u001b[39muint16, device\u001b[38;5;241m=\u001b[39m\u001b[38;5;124m\"\u001b[39m\u001b[38;5;124mcuda\u001b[39m\u001b[38;5;124m\"\u001b[39m)\n\u001b[1;32m----> 3\u001b[0m \u001b[43mtorch\u001b[49m\u001b[38;5;241;43m.\u001b[39;49m\u001b[43mgather\u001b[49m\u001b[43m(\u001b[49m\u001b[43ma\u001b[49m\u001b[43m,\u001b[49m\u001b[43m \u001b[49m\u001b[38;5;241;43m0\u001b[39;49m\u001b[43m,\u001b[49m\u001b[43m \u001b[49m\u001b[43mtorch\u001b[49m\u001b[38;5;241;43m.\u001b[39;49m\u001b[43mtensor\u001b[49m\u001b[43m(\u001b[49m\u001b[43m[\u001b[49m\u001b[38;5;241;43m1\u001b[39;49m\u001b[43m \u001b[49m\u001b[43m,\u001b[49m\u001b[38;5;241;43m2\u001b[39;49m\u001b[43m,\u001b[49m\u001b[43m \u001b[49m\u001b[38;5;241;43m3\u001b[39;49m\u001b[43m]\u001b[49m\u001b[43m,\u001b[49m\u001b[43m \u001b[49m\u001b[43mdtype\u001b[49m\u001b[38;5;241;43m=\u001b[39;49m\u001b[43mtorch\u001b[49m\u001b[38;5;241;43m.\u001b[39;49m\u001b[43mint64\u001b[49m\u001b[43m,\u001b[49m\u001b[43m \u001b[49m\u001b[43mdevice\u001b[49m\u001b[38;5;241;43m=\u001b[39;49m\u001b[38;5;124;43m\"\u001b[39;49m\u001b[38;5;124;43mcuda\u001b[39;49m\u001b[38;5;124;43m\"\u001b[39;49m\u001b[43m)\u001b[49m\u001b[43m)\u001b[49m\n",
      "\u001b[1;31mRuntimeError\u001b[0m: \"cuda_scatter_gather_base_kernel_func\" not implemented for 'UInt16'"
     ]
    }
   ],
   "source": [
    "import torch\n",
    "a = torch.tensor([1,2,3,4,5,6,7,8,9], dtype=torch.int16, device=\"cuda\")\n",
    "torch.gather(a, 0, torch.tensor([1 ,2, 3], dtype=torch.int64, device=\"cuda\"))"
   ]
  },
  {
   "cell_type": "code",
   "execution_count": 1,
   "metadata": {},
   "outputs": [
    {
     "name": "stdout",
     "output_type": "stream",
     "text": [
      "utf-8\n"
     ]
    }
   ],
   "source": [
    "import sys\n",
    "print(sys.getdefaultencoding())  # 应该输出 'utf-8'"
   ]
  },
  {
   "cell_type": "code",
   "execution_count": 3,
   "metadata": {},
   "outputs": [
    {
     "data": {
      "text/plain": [
       "'&#128512; &#128526; &#128640; &#10084;'"
      ]
     },
     "execution_count": 3,
     "metadata": {},
     "output_type": "execute_result"
    }
   ],
   "source": [
    "\"&#128512; &#128526; &#128640; &#10084;\""
   ]
  },
  {
   "cell_type": "code",
   "execution_count": 5,
   "metadata": {},
   "outputs": [
    {
     "data": {
      "text/plain": [
       "'😀 😎 🚀 ❤️'"
      ]
     },
     "execution_count": 5,
     "metadata": {},
     "output_type": "execute_result"
    }
   ],
   "source": [
    "a = \"😀 😎 🚀 ❤️\"\n",
    "a"
   ]
  },
  {
   "cell_type": "code",
   "execution_count": 7,
   "metadata": {},
   "outputs": [
    {
     "ename": "SyntaxError",
     "evalue": "invalid character '😀' (U+1F600) (<string>, line 1)",
     "output_type": "error",
     "traceback": [
      "Traceback \u001b[1;36m(most recent call last)\u001b[0m:\n",
      "\u001b[0m  File \u001b[0;32mc:\\Users\\wls\\anaconda3\\envs\\torch_env\\Lib\\site-packages\\IPython\\core\\interactiveshell.py:3577\u001b[0m in \u001b[0;35mrun_code\u001b[0m\n    exec(code_obj, self.user_global_ns, self.user_ns)\u001b[0m\n",
      "\u001b[1;36m  Cell \u001b[1;32mIn[7], line 2\u001b[1;36m\n\u001b[1;33m    exec(code)\u001b[1;36m\n",
      "\u001b[1;36m  File \u001b[1;32m<string>:1\u001b[1;36m\u001b[0m\n\u001b[1;33m    😀😎🚀❤️ = 12342435\u001b[0m\n\u001b[1;37m    ^\u001b[0m\n\u001b[1;31mSyntaxError\u001b[0m\u001b[1;31m:\u001b[0m invalid character '😀' (U+1F600)\n"
     ]
    }
   ],
   "source": [
    "code = \"😀😎🚀❤️ = 12342435\"\n",
    "exec(code)"
   ]
  },
  {
   "cell_type": "code",
   "execution_count": null,
   "metadata": {},
   "outputs": [],
   "source": []
  }
 ],
 "metadata": {
  "kernelspec": {
   "display_name": "torch_env",
   "language": "python",
   "name": "python3"
  },
  "language_info": {
   "codemirror_mode": {
    "name": "ipython",
    "version": 3
   },
   "file_extension": ".py",
   "mimetype": "text/x-python",
   "name": "python",
   "nbconvert_exporter": "python",
   "pygments_lexer": "ipython3",
   "version": "3.12.0"
  }
 },
 "nbformat": 4,
 "nbformat_minor": 2
}
