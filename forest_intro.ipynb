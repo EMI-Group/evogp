{
 "cells": [
  {
   "cell_type": "code",
   "execution_count": 2,
   "metadata": {},
   "outputs": [],
   "source": [
    "import sys\n",
    "sys.path.append(\"./src\")\n",
    "from evogp.tree import Tree, Forest\n",
    "\n",
    "# random generate a Forest with 10 trees\n",
    "generate_configs = {\n",
    "    \"const_prob\": 0.5,\n",
    "    \"out_prob\": 0.5,\n",
    "    \"func_prob\": {\"+\": 0.25, \"-\": 0.25, \"*\": 0.25, \"/\": 0.25},\n",
    "    \"layer_leaf_prob\": 0.2,\n",
    "    \"const_range\": (-1, 1),\n",
    "    \"sample_cnt\": 8,\n",
    "}\n",
    "\n",
    "forest = Forest.random_generate(\n",
    "    pop_size=10,\n",
    "    gp_len=128,\n",
    "    input_len=3,\n",
    "    output_len=1,\n",
    "    max_layer_cnt=5,\n",
    "    **generate_configs,\n",
    ")"
   ]
  },
  {
   "cell_type": "code",
   "execution_count": 3,
   "metadata": {},
   "outputs": [
    {
     "name": "stdout",
     "output_type": "stream",
     "text": [
      "Forest(pop size: 10)\n",
      "[\n",
      "  / + * + + x[2] x[2] -0.44 - x[0] + x[1] 0.54 0.70 + / 0.70 / * -0.77 x[1] - x[2] x[0] / + / 0.54 0.81 0.54 - / 0.28 0.54 * -0.77 -0.44 , \n",
      "  0.70 , \n",
      "  + + + / - 0.54 x[2] / x[0] -0.02 * - x[0] x[0] * x[2] x[2] / * x[2] * -0.44 -0.02 - * x[1] x[2] x[0] - + x[1] / * 0.76 0.70 / x[2] 0.28 - x[1] / + x[2] x[1] - x[1] 0.54 , \n",
      "  + * - 0.70 - - -0.44 0.70 * x[2] 0.70 x[2] - / + + x[1] x[2] 0.76 + + -0.02 0.28 - -0.02 0.76 - - -0.77 + 0.76 x[1] - / x[2] -0.02 x[1] , \n",
      "  0.76 , \n",
      "  + + x[1] / / * 0.28 -0.02 + x[1] 0.76 / + -0.02 x[2] / 0.28 0.54 + * / + 0.70 0.70 -0.02 -0.44 / / / -0.77 x[2] * x[0] -0.44 0.54 , \n",
      "  x[2] , \n",
      "  x[2] , \n",
      "  0.81 , \n",
      "  - 0.81 / * - - 0.54 -0.44 + 0.70 0.54 -0.44 * / / 0.81 x[0] + 0.70 x[1] * / x[0] 0.28 / x[1] x[1] , \n",
      "]\n",
      "Forest(pop size: 10)\n",
      "[\n",
      "  / + * + + x[2] x[2] -0.44 - x[0] + x[1] 0.54 0.70 + / 0.70 / * -0.77 x[1] - x[2] x[0] / + / 0.54 0.81 0.54 - / 0.28 0.54 * -0.77 -0.44 , \n",
      "  0.70 , \n",
      "  + + + / - 0.54 x[2] / x[0] -0.02 * - x[0] x[0] * x[2] x[2] / * x[2] * -0.44 -0.02 - * x[1] x[2] x[0] - + x[1] / * 0.76 0.70 / x[2] 0.28 - x[1] / + x[2] x[1] - x[1] 0.54 , \n",
      "  + * - 0.70 - - -0.44 0.70 * x[2] 0.70 x[2] - / + + x[1] x[2] 0.76 + + -0.02 0.28 - -0.02 0.76 - - -0.77 + 0.76 x[1] - / x[2] -0.02 x[1] , \n",
      "  0.76 , \n",
      "  + + x[1] / / * 0.28 -0.02 + x[1] 0.76 / + -0.02 x[2] / 0.28 0.54 + * / + 0.70 0.70 -0.02 -0.44 / / / -0.77 x[2] * x[0] -0.44 0.54 , \n",
      "  x[2] , \n",
      "  x[2] , \n",
      "  0.81 , \n",
      "  - 0.81 / * - - 0.54 -0.44 + 0.70 0.54 -0.44 * / / 0.81 x[0] + 0.70 x[1] * / x[0] 0.28 / x[1] x[1] , \n",
      "]\n"
     ]
    }
   ],
   "source": [
    "# the forest can be print or transform to a str\n",
    "print(forest)\n",
    "string_forest = str(forest)\n",
    "print(string_forest)"
   ]
  },
  {
   "cell_type": "code",
   "execution_count": 4,
   "metadata": {},
   "outputs": [
    {
     "name": "stdout",
     "output_type": "stream",
     "text": [
      "/ + * + + x[2] x[2] -0.44 - x[0] + x[1] 0.54 0.70 + / 0.70 / * -0.77 x[1] - x[2] x[0] / + / 0.54 0.81 0.54 - / 0.28 0.54 * -0.77 -0.44 \n"
     ]
    }
   ],
   "source": [
    "# the forest support __getitem__ method\n",
    "\n",
    "# get one item from the forest, will obtain a tree\n",
    "tree = forest[0]\n",
    "print(tree)"
   ]
  },
  {
   "cell_type": "code",
   "execution_count": 5,
   "metadata": {},
   "outputs": [
    {
     "name": "stdout",
     "output_type": "stream",
     "text": [
      "Forest(pop size: 3)\n",
      "[\n",
      "  / + * + + x[2] x[2] -0.44 - x[0] + x[1] 0.54 0.70 + / 0.70 / * -0.77 x[1] - x[2] x[0] / + / 0.54 0.81 0.54 - / 0.28 0.54 * -0.77 -0.44 , \n",
      "  0.70 , \n",
      "  + + + / - 0.54 x[2] / x[0] -0.02 * - x[0] x[0] * x[2] x[2] / * x[2] * -0.44 -0.02 - * x[1] x[2] x[0] - + x[1] / * 0.76 0.70 / x[2] 0.28 - x[1] / + x[2] x[1] - x[1] 0.54 , \n",
      "]\n"
     ]
    }
   ],
   "source": [
    "# get multiple items from forest, will obtain another forest\n",
    "\n",
    "sub_forest = forest[:3]\n",
    "print(sub_forest)"
   ]
  },
  {
   "cell_type": "code",
   "execution_count": 6,
   "metadata": {},
   "outputs": [
    {
     "name": "stdout",
     "output_type": "stream",
     "text": [
      "Forest(pop size: 10)\n",
      "[\n",
      "  / + * + + x[2] x[2] -0.44 - x[0] + x[1] 0.54 0.70 + / 0.70 / * -0.77 x[1] - x[2] x[0] / + / 0.54 0.81 0.54 - / 0.28 0.54 * -0.77 -0.44 , \n",
      "  0.70 , \n",
      "  + + + / - 0.54 x[2] / x[0] -0.02 * - x[0] x[0] * x[2] x[2] / * x[2] * -0.44 -0.02 - * x[1] x[2] x[0] - + x[1] / * 0.76 0.70 / x[2] 0.28 - x[1] / + x[2] x[1] - x[1] 0.54 , \n",
      "  + * - 0.70 - - -0.44 0.70 * x[2] 0.70 x[2] - / + + x[1] x[2] 0.76 + + -0.02 0.28 - -0.02 0.76 - - -0.77 + 0.76 x[1] - / x[2] -0.02 x[1] , \n",
      "  0.76 , \n",
      "  + + x[1] / / * 0.28 -0.02 + x[1] 0.76 / + -0.02 x[2] / 0.28 0.54 + * / + 0.70 0.70 -0.02 -0.44 / / / -0.77 x[2] * x[0] -0.44 0.54 , \n",
      "  x[2] , \n",
      "  x[2] , \n",
      "  0.81 , \n",
      "  / + * + + x[2] x[2] -0.44 - x[0] + x[1] 0.54 0.70 + / 0.70 / * -0.77 x[1] - x[2] x[0] / + / 0.54 0.81 0.54 - / 0.28 0.54 * -0.77 -0.44 , \n",
      "]\n"
     ]
    }
   ],
   "source": [
    "# the forest support __setitem__ method\n",
    "\n",
    "# set a Tree in the forest\n",
    "forest[-1] = tree\n",
    "print(forest)"
   ]
  },
  {
   "cell_type": "code",
   "execution_count": 7,
   "metadata": {},
   "outputs": [
    {
     "data": {
      "text/plain": [
       "Forest(pop size: 10)\n",
       "[\n",
       "  / + * + + x[2] x[2] -0.44 - x[0] + x[1] 0.54 0.70 + / 0.70 / * -0.77 x[1] - x[2] x[0] / + / 0.54 0.81 0.54 - / 0.28 0.54 * -0.77 -0.44 , \n",
       "  0.70 , \n",
       "  + + + / - 0.54 x[2] / x[0] -0.02 * - x[0] x[0] * x[2] x[2] / * x[2] * -0.44 -0.02 - * x[1] x[2] x[0] - + x[1] / * 0.76 0.70 / x[2] 0.28 - x[1] / + x[2] x[1] - x[1] 0.54 , \n",
       "  + * - 0.70 - - -0.44 0.70 * x[2] 0.70 x[2] - / + + x[1] x[2] 0.76 + + -0.02 0.28 - -0.02 0.76 - - -0.77 + 0.76 x[1] - / x[2] -0.02 x[1] , \n",
       "  0.76 , \n",
       "  + + x[1] / / * 0.28 -0.02 + x[1] 0.76 / + -0.02 x[2] / 0.28 0.54 + * / + 0.70 0.70 -0.02 -0.44 / / / -0.77 x[2] * x[0] -0.44 0.54 , \n",
       "  x[2] , \n",
       "  / + * + + x[2] x[2] -0.44 - x[0] + x[1] 0.54 0.70 + / 0.70 / * -0.77 x[1] - x[2] x[0] / + / 0.54 0.81 0.54 - / 0.28 0.54 * -0.77 -0.44 , \n",
       "  0.70 , \n",
       "  + + + / - 0.54 x[2] / x[0] -0.02 * - x[0] x[0] * x[2] x[2] / * x[2] * -0.44 -0.02 - * x[1] x[2] x[0] - + x[1] / * 0.76 0.70 / x[2] 0.28 - x[1] / + x[2] x[1] - x[1] 0.54 , \n",
       "]"
      ]
     },
     "execution_count": 7,
     "metadata": {},
     "output_type": "execute_result"
    }
   ],
   "source": [
    "# set a forest in the forest\n",
    "forest[-3:] = sub_forest\n",
    "forest"
   ]
  },
  {
   "cell_type": "code",
   "execution_count": 8,
   "metadata": {},
   "outputs": [
    {
     "data": {
      "text/plain": [
       "Forest(pop size: 14)\n",
       "[\n",
       "  / + * + + x[2] x[2] -0.44 - x[0] + x[1] 0.54 0.70 + / 0.70 / * -0.77 x[1] - x[2] x[0] / + / 0.54 0.81 0.54 - / 0.28 0.54 * -0.77 -0.44 , \n",
       "  0.70 , \n",
       "  + + + / - 0.54 x[2] / x[0] -0.02 * - x[0] x[0] * x[2] x[2] / * x[2] * -0.44 -0.02 - * x[1] x[2] x[0] - + x[1] / * 0.76 0.70 / x[2] 0.28 - x[1] / + x[2] x[1] - x[1] 0.54 , \n",
       "  + * - 0.70 - - -0.44 0.70 * x[2] 0.70 x[2] - / + + x[1] x[2] 0.76 + + -0.02 0.28 - -0.02 0.76 - - -0.77 + 0.76 x[1] - / x[2] -0.02 x[1] , \n",
       "  0.76 , \n",
       "  + + x[1] / / * 0.28 -0.02 + x[1] 0.76 / + -0.02 x[2] / 0.28 0.54 + * / + 0.70 0.70 -0.02 -0.44 / / / -0.77 x[2] * x[0] -0.44 0.54 , \n",
       "  x[2] , \n",
       "  / + * + + x[2] x[2] -0.44 - x[0] + x[1] 0.54 0.70 + / 0.70 / * -0.77 x[1] - x[2] x[0] / + / 0.54 0.81 0.54 - / 0.28 0.54 * -0.77 -0.44 , \n",
       "  0.70 , \n",
       "  + + + / - 0.54 x[2] / x[0] -0.02 * - x[0] x[0] * x[2] x[2] / * x[2] * -0.44 -0.02 - * x[1] x[2] x[0] - + x[1] / * 0.76 0.70 / x[2] 0.28 - x[1] / + x[2] x[1] - x[1] 0.54 , \n",
       "  / + * + + x[2] x[2] -0.44 - x[0] + x[1] 0.54 0.70 + / 0.70 / * -0.77 x[1] - x[2] x[0] / + / 0.54 0.81 0.54 - / 0.28 0.54 * -0.77 -0.44 , \n",
       "  / + * + + x[2] x[2] -0.44 - x[0] + x[1] 0.54 0.70 + / 0.70 / * -0.77 x[1] - x[2] x[0] / + / 0.54 0.81 0.54 - / 0.28 0.54 * -0.77 -0.44 , \n",
       "  0.70 , \n",
       "  + + + / - 0.54 x[2] / x[0] -0.02 * - x[0] x[0] * x[2] x[2] / * x[2] * -0.44 -0.02 - * x[1] x[2] x[0] - + x[1] / * 0.76 0.70 / x[2] 0.28 - x[1] / + x[2] x[1] - x[1] 0.54 , \n",
       "]"
      ]
     },
     "execution_count": 8,
     "metadata": {},
     "output_type": "execute_result"
    }
   ],
   "source": [
    "# forest support __add__ operation\n",
    "forest = forest + tree\n",
    "forest = forest + sub_forest\n",
    "forest"
   ]
  }
 ],
 "metadata": {
  "kernelspec": {
   "display_name": "evogp312",
   "language": "python",
   "name": "python3"
  },
  "language_info": {
   "codemirror_mode": {
    "name": "ipython",
    "version": 3
   },
   "file_extension": ".py",
   "mimetype": "text/x-python",
   "name": "python",
   "nbconvert_exporter": "python",
   "pygments_lexer": "ipython3",
   "version": "3.12.8"
  }
 },
 "nbformat": 4,
 "nbformat_minor": 2
}
