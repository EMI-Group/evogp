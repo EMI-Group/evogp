{
 "cells": [
  {
   "cell_type": "markdown",
   "metadata": {},
   "source": [
    "### EvoGP Tutorial: Getting Started with Tree-Based Genetic Programming\n",
    "\n",
    "This tutorial will guide you through using EvoGP for tree-based genetic programming (TGP), showcasing key features such as tree generation, problem definition, and algorithm customization."
   ]
  },
  {
   "cell_type": "code",
   "execution_count": 1,
   "metadata": {},
   "outputs": [],
   "source": [
    "# Import necessary modules\n",
    "import torch\n",
    "from evogp.tree import Forest, GenerateDiscriptor\n",
    "from evogp.problem import SymbolicRegression, Classification\n",
    "from evogp.algorithm import *\n",
    "from evogp.pipeline import StandardPipeline"
   ]
  },
  {
   "cell_type": "markdown",
   "metadata": {},
   "source": [
    "### Section 1: Introduction to Tree Generation\n",
    "\n",
    "#### Understanding the `GenerateDiscriptor` Class Parameters\n",
    "\n",
    "The `GenerateDiscriptor` class helps configure the parameters for tree generation. Let’s understand its arguments:\n",
    "\n",
    "- **`max_tree_len`**: This parameter specifies the maximum number of nodes that the tree can have. It helps control the tree’s size and complexity.\n",
    "\n",
    "- **`input_len`**: The number of input variables that the tree will take. This defines how many features or input dimensions the tree will work with.\n",
    "\n",
    "- **`output_len`**: The number of outputs the tree will produce. This is used when dealing with multiple outputs problems.\n",
    "\n",
    "- **`const_prob`**: This is the probability that a node in the tree will be a constant value, rather than input. A higher value means more constants are likely to appear in the tree.\n",
    "\n",
    "- **`out_prob`**: The probability that a node in the tree will be an output node. This helps define how many nodes in the tree will directly correspond to outputs.\n",
    "\n",
    "- **`depth2leaf_probs`**: A tensor that specifies the probability distribution for the tree’s growth at different depths. If not provided, it will be generated based on other parameters such as `max_layer_cnt` and `layer_leaf_prob`.\n",
    "\n",
    "- **`roulette_funcs`**: A tensor that represents the cumulative probability distribution for selecting different functions (such as addition, subtraction, etc.) at each node. If not provided, it will be built from the `using_funcs` parameter.\n",
    "\n",
    "- **`const_samples`**: This parameter contains the constant values that can be used in the tree. It can be either a list or a tensor of pre-defined constants. If not provided, the constants will be generated within the range defined by `const_range` and `sample_cnt`.\n",
    "\n",
    "- **`using_funcs`**: A dictionary or list of functions that will be available for use at each node of the tree. If `roulette_funcs` is not provided, this parameter will be used to build it.\n",
    "\n",
    "- **`max_layer_cnt`**: The maximum number of layers that the tree can have. This is used when `depth2leaf_probs` is not provided, helping to control the tree’s depth and structure.\n",
    "\n",
    "- **`layer_leaf_prob`**: The probability of a node being a leaf at each layer in the tree. This is used if `depth2leaf_probs` is not provided.\n",
    "\n",
    "- **`const_range`**: A tuple that defines the range from which constant values can be sampled. This is used if `const_samples` is not provided.\n",
    "\n",
    "- **`sample_cnt`**: The number of constant samples to generate if `const_samples` is not provided. This works in conjunction with `const_range `to define the distribution of constants.\n",
    "\n",
    "After initializing the `GenerateDiscriptor` class with the above parameters, they will be aggregated and processed into the following key parameters: `max_tree_len`, `input_len`, `output_len`, `const_prob`, `out_prob`, `depth2leaf_probs`, `roulette_funcs`, `const_samples`. These key parameters represent the most important aspects of the tree’s structure and behavior, which will be used throughout the genetic programming process.\n",
    "\n",
    "You can print these parameters and use the `GenerateDiscriptor` to generate a tree as following:"
   ]
  },
  {
   "cell_type": "code",
   "execution_count": 2,
   "metadata": {},
   "outputs": [
    {
     "name": "stdout",
     "output_type": "stream",
     "text": [
      "max_tree_len: 64\n",
      "input_len: 2\n",
      "output_len: 1\n",
      "const_prob: 0.5\n",
      "out_prob: 0.5\n",
      "depth2leaf_probs: tensor([0.2000, 0.2000, 0.2000, 0.2000, 1.0000, 1.0000, 1.0000, 1.0000, 1.0000,\n",
      "        1.0000], device='cuda:0')\n",
      "roulette_funcs: tensor([0.0000, 0.2500, 0.5000, 0.7500, 1.0000, 1.0000, 1.0000, 1.0000, 1.0000,\n",
      "        1.0000, 1.0000, 1.0000, 1.0000, 1.0000, 1.0000, 1.0000, 1.0000, 1.0000,\n",
      "        1.0000, 1.0000, 1.0000, 1.0000, 1.0000, 1.0000, 1.0000, 1.0000, 1.0000,\n",
      "        1.0000, 1.0000], device='cuda:0')\n",
      "const_samples: tensor([-1.,  0.,  1.], device='cuda:0')\n",
      "\n"
     ]
    },
    {
     "data": {
      "text/plain": [
       "Forest(pop size: 1)\n",
       "[\n",
       "  * * / + 1.00 1.00 + 0.00 0.00 / x[1] * x[1] 1.00 * + / x[0] x[0] / -1.00 1.00 + - x[1] x[1] / -1.00 0.00 , \n",
       "]"
      ]
     },
     "execution_count": 2,
     "metadata": {},
     "output_type": "execute_result"
    }
   ],
   "source": [
    "descriptor = GenerateDiscriptor(\n",
    "    max_tree_len=64,\n",
    "    input_len=2,\n",
    "    output_len=1,\n",
    "    using_funcs=[\"+\", \"-\", \"*\", \"/\"],\n",
    "    max_layer_cnt=5,\n",
    "    const_samples=[-1, 0, 1]\n",
    ")\n",
    "print(descriptor)\n",
    "\n",
    "Forest.random_generate(1, descriptor)"
   ]
  },
  {
   "cell_type": "markdown",
   "metadata": {},
   "source": [
    "#### Using the `update` Method\n",
    "\n",
    "The GenerateDiscriptor class also provides an `update` method, which allows you to modify the descriptor’s parameters after it has been initialized. This method takes any number of keyword arguments (i.e., **kwargs) and updates the descriptor’s internal parameter dictionary.\n",
    "\n",
    "Here’s how you can use the `update` method to generate a tree with the different configs:"
   ]
  },
  {
   "cell_type": "code",
   "execution_count": 3,
   "metadata": {},
   "outputs": [
    {
     "name": "stdout",
     "output_type": "stream",
     "text": [
      "max_tree_len: 64\n",
      "input_len: 2\n",
      "output_len: 1\n",
      "const_prob: 0.5\n",
      "out_prob: 0.5\n",
      "depth2leaf_probs: tensor([0.2000, 0.2000, 0.2000, 0.2000, 1.0000, 1.0000, 1.0000, 1.0000, 1.0000,\n",
      "        1.0000], device='cuda:0')\n",
      "roulette_funcs: tensor([0.0000, 0.0000, 0.0000, 0.0000, 0.0000, 0.0000, 0.0000, 0.0000, 0.0000,\n",
      "        0.0000, 0.0000, 0.0000, 0.0000, 0.0000, 0.3333, 0.6667, 1.0000, 1.0000,\n",
      "        1.0000, 1.0000, 1.0000, 1.0000, 1.0000, 1.0000, 1.0000, 1.0000, 1.0000,\n",
      "        1.0000, 1.0000], device='cuda:0')\n",
      "const_samples: tensor([-1.,  0.,  1.], device='cuda:0')\n",
      "\n"
     ]
    },
    {
     "data": {
      "text/plain": [
       "Forest(pop size: 1)\n",
       "[\n",
       "  tan cos sin x[0] , \n",
       "]"
      ]
     },
     "execution_count": 3,
     "metadata": {},
     "output_type": "execute_result"
    }
   ],
   "source": [
    "new_descriptor = descriptor.update(using_funcs=[\"sin\", \"cos\", \"tan\"])\n",
    "print(new_descriptor)\n",
    "\n",
    "Forest.random_generate(1, new_descriptor)"
   ]
  },
  {
   "cell_type": "markdown",
   "metadata": {},
   "source": [
    "### Section 2: Defining Problems\n",
    "\n",
    "EvoGP supports various problem types:\n",
    "\n",
    "#### a. Symbolic Regression"
   ]
  },
  {
   "cell_type": "code",
   "execution_count": 4,
   "metadata": {},
   "outputs": [],
   "source": [
    "X = torch.rand((100, 2), device=\"cuda\")\n",
    "y = X[:, 0] ** 2 + 2 * X[:, 1]\n",
    "problem = SymbolicRegression(datapoints=X, labels=y)"
   ]
  },
  {
   "cell_type": "markdown",
   "metadata": {},
   "source": [
    "#### b. Classification"
   ]
  },
  {
   "cell_type": "code",
   "execution_count": 5,
   "metadata": {},
   "outputs": [],
   "source": [
    "from sklearn.datasets import load_iris\n",
    "\n",
    "data = load_iris()\n",
    "X = torch.tensor(data.data, dtype=torch.float, device=\"cuda\")\n",
    "y = torch.tensor(data.target, dtype=torch.float, device=\"cuda\")\n",
    "problem = Classification(datapoints=X, labels=y)"
   ]
  },
  {
   "cell_type": "markdown",
   "metadata": {},
   "source": [
    "#### c. Custom Functions\n",
    "You can also create problems with custom functions:"
   ]
  },
  {
   "cell_type": "code",
   "execution_count": 6,
   "metadata": {},
   "outputs": [],
   "source": [
    "def custom_function(x):\n",
    "    y = (x[0] + x[1]) ** 2\n",
    "    return y.reshape(-1)\n",
    "\n",
    "problem = SymbolicRegression(\n",
    "    func=custom_function,\n",
    "    num_inputs=2,\n",
    "    num_data=1000,\n",
    "    lower_bounds=-5,\n",
    "    upper_bounds=5\n",
    ")"
   ]
  },
  {
   "cell_type": "markdown",
   "metadata": {},
   "source": [
    "### Section 3: Customizing Algorithms\n",
    "\n",
    "EvoGP provides flexibility through its genetic operators.\n",
    "\n",
    "#### Default Configuration"
   ]
  },
  {
   "cell_type": "code",
   "execution_count": 7,
   "metadata": {},
   "outputs": [],
   "source": [
    "algorithm = GeneticProgramming(\n",
    "    initial_forest=Forest.random_generate(pop_size=1000, descriptor=descriptor),\n",
    "    crossover=DefaultCrossover(),\n",
    "    mutation=DefaultMutation(mutation_rate=0.2, descriptor=descriptor),\n",
    "    selection=DefaultSelection(survival_rate=0.3, elite_rate=0.01)\n",
    ")"
   ]
  },
  {
   "cell_type": "markdown",
   "metadata": {},
   "source": [
    "#### Using Variants\n",
    "- Selection: `RouletteSelection`, `TruncationSelection`, `RankSelection`, `TournamentSelection`\n",
    "- Crossover: `DiversityCrossover`, `LeafBiasedCrossover`\n",
    "- Mutation: `HoistMutation`, `SinglePointMutation`, `MultiPointMutation`, `InsertMutation`, `DeleteMutation`, `SingleConstMutation`, `MultiConstMutation`, `CombinedMutation`\n",
    "\n",
    "Example:"
   ]
  },
  {
   "cell_type": "code",
   "execution_count": 8,
   "metadata": {},
   "outputs": [],
   "source": [
    "algorithm = GeneticProgramming(\n",
    "    initial_forest=Forest.random_generate(pop_size=1000, descriptor=descriptor),\n",
    "    crossover=LeafBiasedCrossover(),\n",
    "    mutation=CombinedMutation(\n",
    "        [\n",
    "            DefaultMutation(mutation_rate=0.2, descriptor=descriptor),\n",
    "            HoistMutation(mutation_rate=0.2),\n",
    "            MultiPointMutation(mutation_rate=0.2, descriptor=descriptor),\n",
    "        ]\n",
    "    ),\n",
    "    selection=TournamentSelection(5),\n",
    ")"
   ]
  },
  {
   "cell_type": "markdown",
   "metadata": {},
   "source": [
    "### Section 4: Running the Pipeline\n",
    "\n",
    "Finally, run the algorithm on the defined problem:"
   ]
  },
  {
   "cell_type": "code",
   "execution_count": 9,
   "metadata": {},
   "outputs": [
    {
     "name": "stdout",
     "output_type": "stream",
     "text": [
      "Generation: 0, Cost time: 304.49ms\n",
      " \tfitness: valid cnt: 740, max: -206.8605, min: -61244460.0000, mean: -329629.7188, std: 3537817.7500\n",
      "\n",
      "Generation: 1, Cost time: 8.22ms\n",
      " \tfitness: valid cnt: 899, max: -121.9854, min: -87567024.0000, mean: -193780.8281, std: 3249077.5000\n",
      "\n",
      "Generation: 2, Cost time: 14.41ms\n",
      " \tfitness: valid cnt: 928, max: -118.2328, min: -87687480.0000, mean: -348827.3750, std: 4484792.0000\n",
      "\n",
      "Generation: 3, Cost time: 11.21ms\n",
      " \tfitness: valid cnt: 918, max: -67.9589, min: -54049972.0000, mean: -71164.5234, std: 1792744.2500\n",
      "\n",
      "Generation: 4, Cost time: 11.87ms\n",
      " \tfitness: valid cnt: 916, max: -20.1768, min: -60463040.0000, mean: -163880.6562, std: 2746633.2500\n",
      "\n",
      "Generation: 5, Cost time: 21.47ms\n",
      " \tfitness: valid cnt: 918, max: -20.1768, min: -13894970.0000, mean: -50566.1367, std: 567872.7500\n",
      "\n",
      "Generation: 6, Cost time: 16.55ms\n",
      " \tfitness: valid cnt: 920, max: -0.0000, min: -87681184.0000, mean: -218541.3906, std: 3772692.5000\n",
      "\n",
      "Generation: 7, Cost time: 14.01ms\n",
      " \tfitness: valid cnt: 917, max: -0.0000, min: -60468808.0000, mean: -125955.6172, std: 2194402.7500\n",
      "\n",
      "Generation: 8, Cost time: 10.48ms\n",
      " \tfitness: valid cnt: 931, max: -0.0000, min: -22485364.0000, mean: -68532.5625, std: 1058169.5000\n",
      "\n",
      "Generation: 9, Cost time: 7.10ms\n",
      " \tfitness: valid cnt: 944, max: -1.0000, min: -54053068.0000, mean: -82090.6797, std: 1824164.2500\n",
      "\n",
      "Generation: 10, Cost time: 12.88ms\n",
      " \tfitness: valid cnt: 952, max: -0.0000, min: -5925972.5000, mean: -22957.0293, std: 264493.9062\n",
      "\n",
      "Generation: 11, Cost time: 34.95ms\n",
      " \tfitness: valid cnt: 957, max: -0.0000, min: -11531606.0000, mean: -25644.9629, std: 409489.1562\n",
      "\n",
      "Generation: 12, Cost time: 9.64ms\n",
      " \tfitness: valid cnt: 935, max: -0.0000, min: -1254441.0000, mean: -4101.4385, std: 54787.4844\n",
      "\n",
      "Generation: 13, Cost time: 21.67ms\n",
      " \tfitness: valid cnt: 951, max: -0.0000, min: -2343893.2500, mean: -4077.7019, std: 77664.0000\n",
      "\n",
      "Generation: 14, Cost time: 39.01ms\n",
      " \tfitness: valid cnt: 957, max: -0.0000, min: -60465016.0000, mean: -82069.6641, std: 1998620.5000\n",
      "\n",
      "Generation: 15, Cost time: 14.53ms\n",
      " \tfitness: valid cnt: 955, max: -0.0000, min: -15045626.0000, mean: -21027.6699, std: 490282.5312\n",
      "\n",
      "Generation: 16, Cost time: 16.19ms\n",
      " \tfitness: valid cnt: 955, max: -0.0000, min: -61656968.0000, mean: -131192.0156, std: 2780393.7500\n",
      "\n",
      "Generation: 17, Cost time: 32.58ms\n",
      " \tfitness: valid cnt: 943, max: -0.0000, min: -59326276.0000, mean: -147218.5469, std: 2703584.5000\n",
      "\n",
      "Generation: 18, Cost time: 17.67ms\n",
      " \tfitness: valid cnt: 942, max: -0.0000, min: -60466888.0000, mean: -78963.5391, std: 1981386.2500\n",
      "\n",
      "Generation: 19, Cost time: 18.93ms\n",
      " \tfitness: valid cnt: 959, max: -0.0000, min: -28980568.0000, mean: -81783.1406, std: 1239698.2500\n",
      "\n",
      "Generation: 20, Cost time: 18.84ms\n",
      " \tfitness: valid cnt: 970, max: -0.0000, min: -51777880.0000, mean: -64666.9375, std: 1672375.6250\n",
      "\n",
      "Generation: 21, Cost time: 10.84ms\n",
      " \tfitness: valid cnt: 957, max: -0.0000, min: -13138706.0000, mean: -19113.3965, std: 436101.9688\n",
      "\n",
      "Generation: 22, Cost time: 10.88ms\n",
      " \tfitness: valid cnt: 960, max: -0.0000, min: -72268536.0000, mean: -82647.5938, std: 2338122.5000\n",
      "\n",
      "Generation: 23, Cost time: 15.53ms\n",
      " \tfitness: valid cnt: 944, max: -0.0000, min: -9587909.0000, mean: -30002.5215, std: 420148.1875\n",
      "\n",
      "Generation: 24, Cost time: 13.61ms\n",
      " \tfitness: valid cnt: 936, max: -0.0000, min: -54029572.0000, mean: -71204.9219, std: 1777348.5000\n",
      "\n",
      "Generation: 25, Cost time: 7.96ms\n",
      " \tfitness: valid cnt: 954, max: -0.0000, min: -16665350.0000, mean: -23563.7363, std: 560626.8750\n",
      "\n",
      "Generation: 26, Cost time: 16.40ms\n",
      " \tfitness: valid cnt: 938, max: -0.0000, min: -6577095.5000, mean: -20639.9863, std: 275755.9375\n",
      "\n",
      "Generation: 27, Cost time: 11.01ms\n",
      " \tfitness: valid cnt: 944, max: -0.0000, min: -55403224.0000, mean: -83810.3906, std: 1909014.7500\n",
      "\n",
      "Generation: 28, Cost time: 13.68ms\n",
      " \tfitness: valid cnt: 950, max: -0.0000, min: -24280392.0000, mean: -92214.8203, std: 1242491.0000\n",
      "\n",
      "Generation: 29, Cost time: 12.64ms\n",
      " \tfitness: valid cnt: 942, max: -0.0000, min: -45883268.0000, mean: -70885.3750, std: 1542630.0000\n",
      "\n",
      "Generation: 30, Cost time: 8.87ms\n",
      " \tfitness: valid cnt: 951, max: -0.0000, min: -13436101.0000, mean: -64949.2188, std: 735823.7500\n",
      "\n",
      "Generation: 31, Cost time: 15.00ms\n",
      " \tfitness: valid cnt: 952, max: -0.0000, min: -44718672.0000, mean: -94532.4219, std: 1597742.7500\n",
      "\n",
      "Generation: 32, Cost time: 13.19ms\n",
      " \tfitness: valid cnt: 971, max: -0.0000, min: -23096670.0000, mean: -138412.1875, std: 1465882.7500\n",
      "\n",
      "Generation: 33, Cost time: 6.67ms\n",
      " \tfitness: valid cnt: 953, max: -0.0000, min: -28276410.0000, mean: -115100.0938, std: 1528551.2500\n",
      "\n",
      "Generation: 34, Cost time: 15.43ms\n",
      " \tfitness: valid cnt: 952, max: -0.0000, min: -98054632.0000, mean: -251806.4219, std: 3901106.0000\n",
      "\n",
      "Generation: 35, Cost time: 11.79ms\n",
      " \tfitness: valid cnt: 957, max: -0.0000, min: -93156832.0000, mean: -181815.7812, std: 3176655.5000\n",
      "\n",
      "Generation: 36, Cost time: 7.14ms\n",
      " \tfitness: valid cnt: 947, max: -0.0000, min: -88296600.0000, mean: -272180.6562, std: 4016659.5000\n",
      "\n",
      "Generation: 37, Cost time: 14.74ms\n",
      " \tfitness: valid cnt: 954, max: -0.0000, min: -38384400.0000, mean: -87447.4766, std: 1460250.3750\n",
      "\n",
      "Generation: 38, Cost time: 11.02ms\n",
      " \tfitness: valid cnt: 956, max: -0.0000, min: -94401056.0000, mean: -153184.7031, std: 3148494.2500\n",
      "\n",
      "Generation: 39, Cost time: 7.15ms\n",
      " \tfitness: valid cnt: 946, max: -0.0000, min: -59701588.0000, mean: -96116.6875, std: 1988305.5000\n",
      "\n",
      "Generation: 40, Cost time: 15.84ms\n",
      " \tfitness: valid cnt: 949, max: -0.0000, min: -60076572.0000, mean: -125077.5859, std: 2195635.2500\n",
      "\n",
      "Generation: 41, Cost time: 13.59ms\n",
      " \tfitness: valid cnt: 957, max: -0.0000, min: -47327848.0000, mean: -60237.2422, std: 1538632.3750\n",
      "\n",
      "Generation: 42, Cost time: 12.70ms\n",
      " \tfitness: valid cnt: 963, max: -0.0000, min: -41871016.0000, mean: -130292.5391, std: 1901097.6250\n",
      "\n",
      "Generation: 43, Cost time: 9.49ms\n",
      " \tfitness: valid cnt: 952, max: -0.0000, min: -55444068.0000, mean: -136253.0625, std: 2209810.5000\n",
      "\n",
      "Generation: 44, Cost time: 22.39ms\n",
      " \tfitness: valid cnt: 950, max: -0.0000, min: -73082384.0000, mean: -200021.1875, std: 3248518.0000\n",
      "\n",
      "Generation: 45, Cost time: 24.39ms\n",
      " \tfitness: valid cnt: 938, max: -0.0000, min: -60252164.0000, mean: -81448.0781, std: 1974481.8750\n",
      "\n",
      "Generation: 46, Cost time: 16.39ms\n",
      " \tfitness: valid cnt: 931, max: -0.0000, min: -93277328.0000, mean: -163772.6719, std: 3321703.0000\n",
      "\n",
      "Generation: 47, Cost time: 9.75ms\n",
      " \tfitness: valid cnt: 937, max: -0.0000, min: -11303331.0000, mean: -29413.3945, std: 428838.6875\n",
      "\n",
      "Generation: 48, Cost time: 16.88ms\n",
      " \tfitness: valid cnt: 923, max: -0.0000, min: -74566304.0000, mean: -190166.6250, std: 2995960.7500\n",
      "\n",
      "Generation: 49, Cost time: 19.64ms\n",
      " \tfitness: valid cnt: 929, max: -0.0000, min: -39059760.0000, mean: -107651.9453, std: 1564954.5000\n",
      "\n",
      "Generation limit reached!\n"
     ]
    }
   ],
   "source": [
    "pipeline = StandardPipeline(\n",
    "    algorithm,\n",
    "    problem,\n",
    "    generation_limit=50\n",
    ")\n",
    "\n",
    "best = pipeline.run()"
   ]
  },
  {
   "cell_type": "markdown",
   "metadata": {},
   "source": [
    "### Section 5: Inspecting Results\n",
    "\n",
    "#### Predictions"
   ]
  },
  {
   "cell_type": "code",
   "execution_count": 10,
   "metadata": {},
   "outputs": [
    {
     "name": "stdout",
     "output_type": "stream",
     "text": [
      "tensor([17.3489], device='cuda:0')\n"
     ]
    }
   ],
   "source": [
    "predictions = best.forward(problem.datapoints[0])\n",
    "print(predictions)"
   ]
  },
  {
   "cell_type": "markdown",
   "metadata": {},
   "source": [
    "#### Symbolic Representation"
   ]
  },
  {
   "cell_type": "code",
   "execution_count": 11,
   "metadata": {},
   "outputs": [
    {
     "name": "stdout",
     "output_type": "stream",
     "text": [
      "(x0 + x1)**2\n"
     ]
    }
   ],
   "source": [
    "expression = best.to_sympy_expr()\n",
    "print(expression)"
   ]
  },
  {
   "cell_type": "markdown",
   "metadata": {},
   "source": [
    "#### Visualization"
   ]
  },
  {
   "cell_type": "code",
   "execution_count": 12,
   "metadata": {},
   "outputs": [],
   "source": [
    "best.to_png(\"best_tree.png\")"
   ]
  }
 ],
 "metadata": {
  "kernelspec": {
   "display_name": "evogp312",
   "language": "python",
   "name": "python3"
  },
  "language_info": {
   "codemirror_mode": {
    "name": "ipython",
    "version": 3
   },
   "file_extension": ".py",
   "mimetype": "text/x-python",
   "name": "python",
   "nbconvert_exporter": "python",
   "pygments_lexer": "ipython3",
   "version": "3.12.8"
  }
 },
 "nbformat": 4,
 "nbformat_minor": 2
}
