{
 "cells": [
  {
   "cell_type": "code",
   "execution_count": null,
   "metadata": {},
   "outputs": [
    {
     "name": "stdout",
     "output_type": "stream",
     "text": [
      "Roulette functions: tensor([0.1000, 0.4000, 0.7000, 1.0000])\n",
      "Random value: tensor([0.4053, 0.5476, 0.0514, 0.6808, 0.0173, 0.6733, 0.4760, 0.4969])\n",
      "Selected function index: tensor([2, 2, 0, 2, 0, 2, 2, 2])\n"
     ]
    }
   ],
   "source": [
    "import torch\n",
    "\n",
    "def select_function_index(roulette_funcs):\n",
    "    \"\"\"\n",
    "    根据累计概率随机选择函数索引。\n",
    "\n",
    "    参数:\n",
    "        roulette_funcs (torch.Tensor): 累计概率张量，形状为 (n,)。\n",
    "\n",
    "    返回:\n",
    "        int: 随机选择的函数索引。\n",
    "    \"\"\"\n",
    "    # 生成一个 [0, 1) 范围内的随机数\n",
    "    random_value = torch.rand(8)\n",
    "    print(f\"Random value: {random_value}\")\n",
    "\n",
    "    # 找到第一个大于随机数的累计概率值的索引\n",
    "    index = torch.searchsorted(roulette_funcs, random_value)\n",
    "\n",
    "    return index\n",
    "\n",
    "# 示例累计概率张量\n",
    "roulette_funcs = torch.tensor([0.1, 0.4, 0.7, 1.0])\n",
    "print(f\"Roulette functions: {roulette_funcs}\")\n",
    "\n",
    "# 随机选择函数索引\n",
    "index = select_function_index(roulette_funcs)\n",
    "print(f\"Selected function index: {index}\")"
   ]
  },
  {
   "cell_type": "code",
   "execution_count": null,
   "metadata": {},
   "outputs": [
    {
     "ename": "TypeError",
     "evalue": "rand() received an invalid combination of arguments - got (int, out_int32=bool, device=str), but expected one of:\n * (tuple of ints size, *, torch.Generator generator, tuple of names names, torch.dtype dtype = None, torch.layout layout = None, torch.device device = None, bool pin_memory = False, bool requires_grad = False)\n * (tuple of ints size, *, torch.Generator generator, Tensor out = None, torch.dtype dtype = None, torch.layout layout = None, torch.device device = None, bool pin_memory = False, bool requires_grad = False)\n * (tuple of ints size, *, Tensor out = None, torch.dtype dtype = None, torch.layout layout = None, torch.device device = None, bool pin_memory = False, bool requires_grad = False)\n * (tuple of ints size, *, tuple of names names, torch.dtype dtype = None, torch.layout layout = None, torch.device device = None, bool pin_memory = False, bool requires_grad = False)\n",
     "output_type": "error",
     "traceback": [
      "\u001b[0;31m---------------------------------------------------------------------------\u001b[0m",
      "\u001b[0;31mTypeError\u001b[0m                                 Traceback (most recent call last)",
      "Cell \u001b[0;32mIn[33], line 1\u001b[0m\n\u001b[0;32m----> 1\u001b[0m torch\u001b[38;5;241m.\u001b[39mrand(\u001b[38;5;241m8\u001b[39m, device\u001b[38;5;241m=\u001b[39m\u001b[38;5;124m\"\u001b[39m\u001b[38;5;124mcuda\u001b[39m\u001b[38;5;124m\"\u001b[39m, out_int32\u001b[38;5;241m=\u001b[39m\u001b[38;5;28;01mTrue\u001b[39;00m)\n",
      "\u001b[0;31mTypeError\u001b[0m: rand() received an invalid combination of arguments - got (int, out_int32=bool, device=str), but expected one of:\n * (tuple of ints size, *, torch.Generator generator, tuple of names names, torch.dtype dtype = None, torch.layout layout = None, torch.device device = None, bool pin_memory = False, bool requires_grad = False)\n * (tuple of ints size, *, torch.Generator generator, Tensor out = None, torch.dtype dtype = None, torch.layout layout = None, torch.device device = None, bool pin_memory = False, bool requires_grad = False)\n * (tuple of ints size, *, Tensor out = None, torch.dtype dtype = None, torch.layout layout = None, torch.device device = None, bool pin_memory = False, bool requires_grad = False)\n * (tuple of ints size, *, tuple of names names, torch.dtype dtype = None, torch.layout layout = None, torch.device device = None, bool pin_memory = False, bool requires_grad = False)\n"
     ]
    }
   ],
   "source": [
    "torch.rand(8, device=\"cuda\", out_int32=True)"
   ]
  }
 ],
 "metadata": {
  "kernelspec": {
   "display_name": "evogp312",
   "language": "python",
   "name": "python3"
  },
  "language_info": {
   "codemirror_mode": {
    "name": "ipython",
    "version": 3
   },
   "file_extension": ".py",
   "mimetype": "text/x-python",
   "name": "python",
   "nbconvert_exporter": "python",
   "pygments_lexer": "ipython3",
   "version": "3.12.8"
  }
 },
 "nbformat": 4,
 "nbformat_minor": 2
}
