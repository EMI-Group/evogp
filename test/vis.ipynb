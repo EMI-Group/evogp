{
 "cells": [
  {
   "cell_type": "code",
   "execution_count": 25,
   "metadata": {},
   "outputs": [
    {
     "name": "stdout",
     "output_type": "stream",
     "text": [
      "Generation: 0, Cost time: 19.38ms\n",
      " \tfitness: valid cnt: 64994, max: -0.5000, min: -6.5000, mean: -1.0122, std: 0.9593\n",
      "\n",
      "Generation: 1, Cost time: 21.00ms\n",
      " \tfitness: valid cnt: 87216, max: -0.2500, min: -12.5000, mean: -0.6616, std: 0.5671\n",
      "\n",
      "Generation: 2, Cost time: 17.00ms\n",
      " \tfitness: valid cnt: 88649, max: -0.2500, min: -12.5000, mean: -0.6177, std: 0.4831\n",
      "\n",
      "Generation: 3, Cost time: 15.00ms\n",
      " \tfitness: valid cnt: 89576, max: -0.2500, min: -12.5000, mean: -0.6101, std: 0.4739\n",
      "\n",
      "Generation: 4, Cost time: 14.22ms\n",
      " \tfitness: valid cnt: 89604, max: -0.2500, min: -12.5000, mean: -0.5963, std: 0.4390\n",
      "\n",
      "Generation: 5, Cost time: 15.00ms\n",
      " \tfitness: valid cnt: 89292, max: -0.2500, min: -9.5000, mean: -0.5975, std: 0.4564\n",
      "\n",
      "Generation: 6, Cost time: 15.00ms\n",
      " \tfitness: valid cnt: 88378, max: -0.2500, min: -35.4968, mean: -0.6069, std: 0.5067\n",
      "\n",
      "Generation: 7, Cost time: 20.00ms\n",
      " \tfitness: valid cnt: 86898, max: -0.2500, min: -36.4071, mean: -0.6207, std: 0.5435\n",
      "\n",
      "Generation: 8, Cost time: 15.00ms\n",
      " \tfitness: valid cnt: 85335, max: -0.2392, min: -53.7864, mean: -0.6412, std: 0.6356\n",
      "\n",
      "Generation: 9, Cost time: 16.00ms\n",
      " \tfitness: valid cnt: 82844, max: -0.2373, min: -1305.1042, mean: -0.6790, std: 4.9074\n",
      "\n",
      "Generation: 10, Cost time: 16.00ms\n",
      " \tfitness: valid cnt: 81521, max: -0.2373, min: -18119.0664, mean: -1.2415, std: 96.5726\n",
      "\n",
      "Generation: 11, Cost time: 20.73ms\n",
      " \tfitness: valid cnt: 85789, max: -0.2373, min: -6480.5000, mean: -0.7310, std: 22.2319\n",
      "\n",
      "Generation: 12, Cost time: 16.00ms\n",
      " \tfitness: valid cnt: 88187, max: -0.2272, min: -22976.4180, mean: -1.3769, std: 103.7052\n",
      "\n",
      "Generation: 13, Cost time: 17.56ms\n",
      " \tfitness: valid cnt: 88492, max: -0.2272, min: -983457.5000, mean: -12.7958, std: 3309.1094\n",
      "\n",
      "Generation: 14, Cost time: 20.00ms\n",
      " \tfitness: valid cnt: 89015, max: -0.2272, min: -3680.7380, mean: -0.7365, std: 15.8845\n",
      "\n",
      "Generation: 15, Cost time: 17.00ms\n",
      " \tfitness: valid cnt: 88958, max: -0.2272, min: -14701.6162, mean: -1.1043, std: 66.8418\n",
      "\n",
      "Generation: 16, Cost time: 19.31ms\n",
      " \tfitness: valid cnt: 88592, max: -0.2272, min: -5741.8643, mean: -0.6102, std: 19.9961\n",
      "\n",
      "Generation: 17, Cost time: 17.14ms\n",
      " \tfitness: valid cnt: 88231, max: -0.2235, min: -240.5000, mean: -0.4948, std: 1.5212\n",
      "\n",
      "Generation: 18, Cost time: 18.00ms\n",
      " \tfitness: valid cnt: 88153, max: -0.2208, min: -626.3021, mean: -0.4876, std: 3.5153\n",
      "\n",
      "Generation: 19, Cost time: 19.00ms\n",
      " \tfitness: valid cnt: 87748, max: -0.2173, min: -27847.4688, mean: -0.9107, std: 101.7358\n",
      "\n",
      "Generation: 20, Cost time: 20.03ms\n",
      " \tfitness: valid cnt: 87221, max: -0.1539, min: -33595.0352, mean: -0.8211, std: 113.8416\n",
      "\n",
      "Generation: 21, Cost time: 26.23ms\n",
      " \tfitness: valid cnt: 86572, max: -0.1539, min: -1397266.6250, mean: -16.9469, std: 4750.1621\n",
      "\n",
      "Generation: 22, Cost time: 23.22ms\n",
      " \tfitness: valid cnt: 86107, max: -0.1539, min: -1773.5468, mean: -0.4012, std: 6.1724\n",
      "\n",
      "Generation: 23, Cost time: 29.55ms\n",
      " \tfitness: valid cnt: 85165, max: -0.1539, min: -40828.8711, mean: -0.8781, std: 139.9846\n",
      "\n",
      "Generation: 24, Cost time: 27.00ms\n",
      " \tfitness: valid cnt: 84049, max: -0.1055, min: -261782.2969, mean: -4.7786, std: 972.7458\n",
      "\n",
      "Generation: 25, Cost time: 30.16ms\n",
      " \tfitness: valid cnt: 82697, max: -0.1023, min: -30601.1328, mean: -1.4704, std: 159.1489\n",
      "\n",
      "Generation: 26, Cost time: 31.72ms\n",
      " \tfitness: valid cnt: 82106, max: -0.0958, min: -2447.3330, mean: -0.4899, std: 15.4738\n",
      "\n",
      "Generation: 27, Cost time: 31.01ms\n",
      " \tfitness: valid cnt: 83763, max: -0.0614, min: -200154.0625, mean: -3.3880, std: 714.7268\n",
      "\n",
      "Generation: 28, Cost time: 33.00ms\n",
      " \tfitness: valid cnt: 83847, max: -0.0501, min: -6700.4141, mean: -0.5643, std: 26.7156\n",
      "\n",
      "Generation: 29, Cost time: 33.71ms\n",
      " \tfitness: valid cnt: 83831, max: -0.0437, min: -240311.8906, mean: -5.6404, std: 947.7341\n",
      "\n",
      "Generation: 30, Cost time: 35.03ms\n",
      " \tfitness: valid cnt: 83113, max: -0.0437, min: -118067.8516, mean: -2.1796, std: 412.5188\n",
      "\n",
      "Generation: 31, Cost time: 37.97ms\n",
      " \tfitness: valid cnt: 82116, max: -0.0332, min: -4843317.0000, mean: -61.4621, std: 16905.5430\n",
      "\n",
      "Generation: 32, Cost time: 39.04ms\n",
      " \tfitness: valid cnt: 81592, max: -0.0190, min: -720600.5625, mean: -9.6425, std: 2524.2881\n",
      "\n",
      "Generation: 33, Cost time: 40.00ms\n",
      " \tfitness: valid cnt: 80817, max: -0.0118, min: -216536.3281, mean: -6.5385, std: 990.6121\n",
      "\n",
      "Generation: 34, Cost time: 35.00ms\n",
      " \tfitness: valid cnt: 80699, max: -0.0078, min: -10006.3027, mean: -0.8306, std: 58.3502\n",
      "\n",
      "Generation: 35, Cost time: 35.35ms\n",
      " \tfitness: valid cnt: 80285, max: -0.0000, min: -6768.0322, mean: -0.6039, std: 34.0088\n",
      "\n",
      "Fitness target reached!\n",
      "tensor([0.], device='cuda:0')\n",
      "tensor([[0.],\n",
      "        [1.],\n",
      "        [1.],\n",
      "        [0.],\n",
      "        [1.],\n",
      "        [0.],\n",
      "        [0.],\n",
      "        [1.]], device='cuda:0')\n",
      "((1.0 + 1/(x0 + x1 + x2 - 1.0))**(-0.5) + 1.0)**(-sqrt(1.0*x1**1.0 + 1/(-sqrt(x0) - x1 - x2 + 2.0)))\n"
     ]
    }
   ],
   "source": [
    "import torch\n",
    "from evogp.tree import Forest, GenerateDescriptor\n",
    "from evogp.algorithm import (\n",
    "    GeneticProgramming,\n",
    "    DefaultSelection,\n",
    "    DefaultMutation,\n",
    "    DefaultCrossover,\n",
    ")\n",
    "from evogp.problem import SymbolicRegression\n",
    "from evogp.pipeline import StandardPipeline\n",
    "\n",
    "XOR_INPUTS = torch.tensor(\n",
    "    [\n",
    "        [0, 0, 0],\n",
    "        [0, 0, 1],\n",
    "        [0, 1, 0],\n",
    "        [0, 1, 1],\n",
    "        [1, 0, 0],\n",
    "        [1, 0, 1],\n",
    "        [1, 1, 0],\n",
    "        [1, 1, 1],\n",
    "    ],\n",
    "    dtype=torch.float,\n",
    "    device=\"cuda\",\n",
    ")\n",
    "\n",
    "XOR_OUTPUTS = torch.tensor(\n",
    "    [[0], [1], [1], [0], [1], [0], [0], [1]],\n",
    "    dtype=torch.float,\n",
    "    device=\"cuda\",\n",
    ")\n",
    "\n",
    "problem = SymbolicRegression(datapoints=XOR_INPUTS, labels=XOR_OUTPUTS)\n",
    "\n",
    "# create decriptor for generating new trees\n",
    "descriptor = GenerateDescriptor(\n",
    "    max_tree_len=128,\n",
    "    input_len=problem.problem_dim,\n",
    "    output_len=problem.solution_dim,\n",
    "    using_funcs=[\"+\", \"-\", \"log\", \"sqrt\", \"pow\", \"/\", \"inv\"],\n",
    "    max_layer_cnt=2,\n",
    "    const_samples=[-1, 0, 1],\n",
    ")\n",
    "\n",
    "# create the algorithm\n",
    "algorithm = GeneticProgramming(\n",
    "    initial_forest=Forest.random_generate(pop_size=100000, descriptor=descriptor),\n",
    "    crossover=DefaultCrossover(),\n",
    "    mutation=DefaultMutation(\n",
    "        mutation_rate=0.2, descriptor=descriptor\n",
    "    ),\n",
    "    selection=DefaultSelection(survival_rate=0.3, elite_rate=0.01),\n",
    ")\n",
    "\n",
    "pipeline = StandardPipeline(\n",
    "    algorithm,\n",
    "    problem,\n",
    "    generation_limit=1000,\n",
    "    fitness_target = -0.001,\n",
    "    # is_show_details=False,\n",
    ")\n",
    "\n",
    "best = pipeline.run()\n",
    "best_fitness = best.SR_fitness(XOR_INPUTS, XOR_OUTPUTS)\n",
    "print(best_fitness)\n",
    "\n",
    "pred_res = best.forward(XOR_INPUTS)\n",
    "print(pred_res)\n",
    "\n",
    "sympy_expression = best.to_sympy_expr()\n",
    "print(sympy_expression)\n",
    "\n",
    "# best.to_png(\"./imgs/xor_tree.png\")"
   ]
  },
  {
   "cell_type": "code",
   "execution_count": 26,
   "metadata": {},
   "outputs": [
    {
     "data": {
      "text/latex": [
       "$\\displaystyle \\left(\\left(1.0 + \\frac{1}{x_{0} + x_{1} + x_{2} - 1.0}\\right)^{-0.5} + 1.0\\right)^{- \\sqrt{1.0 x_{1}^{1.0} + \\frac{1}{- \\sqrt{x_{0}} - x_{1} - x_{2} + 2.0}}}$"
      ],
      "text/plain": [
       "((1.0 + 1/(x0 + x1 + x2 - 1.0))**(-0.5) + 1.0)**(-sqrt(1.0*x1**1.0 + 1/(-sqrt(x0) - x1 - x2 + 2.0)))"
      ]
     },
     "execution_count": 26,
     "metadata": {},
     "output_type": "execute_result"
    }
   ],
   "source": [
    "sympy_expression"
   ]
  },
  {
   "cell_type": "code",
   "execution_count": 13,
   "metadata": {},
   "outputs": [
    {
     "data": {
      "text/latex": [
       "$\\displaystyle {0.5}^{{0.0}^{\\left(x_{0} - 0.5\\right) \\left(x_{1} - 0.5\\right) \\left(x_{2} - 0.5\\right)}}$"
      ],
      "text/plain": [
       "0.5**(0.0**((x0 - 0.5)*(x1 - 0.5)*(x2 - 0.5)))"
      ]
     },
     "execution_count": 13,
     "metadata": {},
     "output_type": "execute_result"
    }
   ],
   "source": [
    "sympy_expression.simplify()"
   ]
  },
  {
   "cell_type": "code",
   "execution_count": 14,
   "metadata": {},
   "outputs": [
    {
     "data": {
      "text/plain": [
       "'pow(0.50,pow(pow(0.00,(x[0] − 0.50)),((x[1] − 0.50) * (x[2] − 0.50))))'"
      ]
     },
     "execution_count": 14,
     "metadata": {},
     "output_type": "execute_result"
    }
   ],
   "source": [
    "best.to_infix()"
   ]
  },
  {
   "cell_type": "code",
   "execution_count": null,
   "metadata": {},
   "outputs": [],
   "source": []
  }
 ],
 "metadata": {
  "kernelspec": {
   "display_name": "evogp312",
   "language": "python",
   "name": "python3"
  },
  "language_info": {
   "codemirror_mode": {
    "name": "ipython",
    "version": 3
   },
   "file_extension": ".py",
   "mimetype": "text/x-python",
   "name": "python",
   "nbconvert_exporter": "python",
   "pygments_lexer": "ipython3",
   "version": "3.12.8"
  }
 },
 "nbformat": 4,
 "nbformat_minor": 2
}
